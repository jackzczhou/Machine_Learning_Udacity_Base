{
 "cells": [
  {
   "cell_type": "markdown",
   "metadata": {},
   "source": [
    "<a id='title'></a>\n",
    "# Project: 泰坦尼克号数据调查\n",
    "\n",
    "## Table of Contents\n",
    "<ul>\n",
    "<li><a href=\"#intro\">Introduction</a></li>\n",
    "<li><a href=\"#wrangling\">Data Wrangling</a></li>\n",
    "<li><a href=\"#eda\">Exploratory Data Analysis</a></li>\n",
    "<li><a href=\"#conclusions\">Conclusions</a></li>\n",
    "</ul>"
   ]
  },
  {
   "cell_type": "markdown",
   "metadata": {},
   "source": [
    "<a id='intro'></a>\n",
    "## Introduction\n",
    "> 数据集记录了泰坦尼克号上的乘客的相关信息，包括名字、性别、年龄、票信息、是否生还等。<br />\n",
    "> 数据表中相关字段的信息如下：<br />"
   ]
  },
  {
   "cell_type": "markdown",
   "metadata": {},
   "source": [
    "<table>\n",
    "<tr>\n",
    "<td align=\"left\">Variable</td>\n",
    "<td align=\"left\">Definition</td>\n",
    "<td align=\"left\">Key</td>\n",
    "</tr>\n",
    "\n",
    "<tr>\n",
    "<td align=\"left\">Survived</td>\n",
    "<td align=\"left\">survival</td>\n",
    "<td align=\"left\">0 = No, 1 = Yes</td>\n",
    "</tr>\n",
    "\n",
    "<tr>\n",
    "<td align=\"left\">Pclass</td>\n",
    "<td align=\"left\">Ticket class</td>\n",
    "<td align=\"left\">1 = 1st(Upper), 2 = 2nd(Middle), 3 = 3rd(Lower)</td>\n",
    "</tr>\n",
    "\n",
    "<tr>\n",
    "<td align=\"left\">Sex</td>\n",
    "<td align=\"left\">sex</td>\n",
    "<td align=\"left\"></td>\n",
    "</tr>\n",
    "\n",
    "<tr>\n",
    "<td align=\"left\">Age</td>\n",
    "<td align=\"left\">Age in years</td>\n",
    "<td align=\"left\"></td>\n",
    "</tr>\n",
    "\n",
    "<tr>\n",
    "<td align=\"left\">Sibsp</td>\n",
    "<td align=\"left\"># of siblings / spouses aboard the Titanic</td>\n",
    "<td align=\"left\"></td>\n",
    "</tr>\n",
    "\n",
    "<tr>\n",
    "<td align=\"left\">Parch</td>\n",
    "<td align=\"left\"> # of parents / children aboard the Titanic</td>\n",
    "<td align=\"left\"></td>\n",
    "</tr>\n",
    "\n",
    "<tr>\n",
    "<td align=\"left\">Ticket</td>\n",
    "<td align=\"left\">Ticket number</td>\n",
    "<td align=\"left\"></td>\n",
    "</tr>\n",
    "\n",
    "<tr>\n",
    "<td align=\"left\">Fare</td>\n",
    "<td align=\"left\">Passenger fare</td>\n",
    "<td align=\"left\"></td>\n",
    "</tr>\n",
    "\n",
    "<tr>\n",
    "<td align=\"left\">Cabin</td>\n",
    "<td align=\"left\">Cabin number</td>\n",
    "<td align=\"left\"></td>\n",
    "</tr>\n",
    "\n",
    "<tr>\n",
    "<td align=\"left\">Embarked</td>\n",
    "<td align=\"left\">Port of Embarkation</td>\n",
    "<td align=\"left\">C = Cherbourg, Q = Queenstown, S = Southampton</td>\n",
    "</tr>\n",
    "</table>"
   ]
  },
  {
   "cell_type": "markdown",
   "metadata": {},
   "source": [
    "### 展开调查的问题：\n",
    "<ul>\n",
    "<li><a href=\"#eda\">问题1：年龄与乘客生还的情况怎么样？</a></li>\n",
    "<li><a href=\"#question2\">问题2：性别与乘客生化的情况怎么样？</a></li>\n",
    "<li><a href=\"#question3\">问题3：不同的票等级(pclass)与乘客生还的情况？</a></li>\n",
    "<li><a href=\"#question4\">问题4：不同登陆港口的乘客与生化情况如何？</a></li>\n",
    "<li><a href=\"#question5\">问题5：费用与票价等级的对应关系如何？ </a></li>\n",
    "<li><a href=\"#question6\">问题6：不同费用的乘客的生还情况如何？</a></li>\n",
    "<li><a href=\"#question7\">问题7：从三个港口登陆的乘客的费用是否有不同？</a></li>\n",
    "</ul>"
   ]
  },
  {
   "cell_type": "code",
   "execution_count": 1,
   "metadata": {
    "collapsed": true
   },
   "outputs": [],
   "source": [
    "import numpy as np\n",
    "import pandas as pd\n",
    "import matplotlib.pyplot as plt\n",
    "from decimal import Decimal\n",
    "from fractions import Fraction\n",
    "import scipy\n",
    "%matplotlib inline"
   ]
  },
  {
   "cell_type": "markdown",
   "metadata": {},
   "source": [
    "<a id='wrangling'></a>\n",
    "## Data Wrangling\n",
    "\n",
    "\n",
    "\n",
    "### General Properties"
   ]
  },
  {
   "cell_type": "code",
   "execution_count": 2,
   "metadata": {
    "collapsed": true
   },
   "outputs": [],
   "source": [
    "titanic_df = pd.read_csv(r'.\\titanic_data\\titanic-data.csv')"
   ]
  },
  {
   "cell_type": "code",
   "execution_count": 3,
   "metadata": {
    "scrolled": true
   },
   "outputs": [
    {
     "data": {
      "text/html": [
       "<div>\n",
       "<style>\n",
       "    .dataframe thead tr:only-child th {\n",
       "        text-align: right;\n",
       "    }\n",
       "\n",
       "    .dataframe thead th {\n",
       "        text-align: left;\n",
       "    }\n",
       "\n",
       "    .dataframe tbody tr th {\n",
       "        vertical-align: top;\n",
       "    }\n",
       "</style>\n",
       "<table border=\"1\" class=\"dataframe\">\n",
       "  <thead>\n",
       "    <tr style=\"text-align: right;\">\n",
       "      <th></th>\n",
       "      <th>PassengerId</th>\n",
       "      <th>Survived</th>\n",
       "      <th>Pclass</th>\n",
       "      <th>Name</th>\n",
       "      <th>Sex</th>\n",
       "      <th>Age</th>\n",
       "      <th>SibSp</th>\n",
       "      <th>Parch</th>\n",
       "      <th>Ticket</th>\n",
       "      <th>Fare</th>\n",
       "      <th>Cabin</th>\n",
       "      <th>Embarked</th>\n",
       "    </tr>\n",
       "  </thead>\n",
       "  <tbody>\n",
       "    <tr>\n",
       "      <th>0</th>\n",
       "      <td>1</td>\n",
       "      <td>0</td>\n",
       "      <td>3</td>\n",
       "      <td>Braund, Mr. Owen Harris</td>\n",
       "      <td>male</td>\n",
       "      <td>22.0</td>\n",
       "      <td>1</td>\n",
       "      <td>0</td>\n",
       "      <td>A/5 21171</td>\n",
       "      <td>7.2500</td>\n",
       "      <td>NaN</td>\n",
       "      <td>S</td>\n",
       "    </tr>\n",
       "    <tr>\n",
       "      <th>1</th>\n",
       "      <td>2</td>\n",
       "      <td>1</td>\n",
       "      <td>1</td>\n",
       "      <td>Cumings, Mrs. John Bradley (Florence Briggs Th...</td>\n",
       "      <td>female</td>\n",
       "      <td>38.0</td>\n",
       "      <td>1</td>\n",
       "      <td>0</td>\n",
       "      <td>PC 17599</td>\n",
       "      <td>71.2833</td>\n",
       "      <td>C85</td>\n",
       "      <td>C</td>\n",
       "    </tr>\n",
       "    <tr>\n",
       "      <th>2</th>\n",
       "      <td>3</td>\n",
       "      <td>1</td>\n",
       "      <td>3</td>\n",
       "      <td>Heikkinen, Miss. Laina</td>\n",
       "      <td>female</td>\n",
       "      <td>26.0</td>\n",
       "      <td>0</td>\n",
       "      <td>0</td>\n",
       "      <td>STON/O2. 3101282</td>\n",
       "      <td>7.9250</td>\n",
       "      <td>NaN</td>\n",
       "      <td>S</td>\n",
       "    </tr>\n",
       "    <tr>\n",
       "      <th>3</th>\n",
       "      <td>4</td>\n",
       "      <td>1</td>\n",
       "      <td>1</td>\n",
       "      <td>Futrelle, Mrs. Jacques Heath (Lily May Peel)</td>\n",
       "      <td>female</td>\n",
       "      <td>35.0</td>\n",
       "      <td>1</td>\n",
       "      <td>0</td>\n",
       "      <td>113803</td>\n",
       "      <td>53.1000</td>\n",
       "      <td>C123</td>\n",
       "      <td>S</td>\n",
       "    </tr>\n",
       "    <tr>\n",
       "      <th>4</th>\n",
       "      <td>5</td>\n",
       "      <td>0</td>\n",
       "      <td>3</td>\n",
       "      <td>Allen, Mr. William Henry</td>\n",
       "      <td>male</td>\n",
       "      <td>35.0</td>\n",
       "      <td>0</td>\n",
       "      <td>0</td>\n",
       "      <td>373450</td>\n",
       "      <td>8.0500</td>\n",
       "      <td>NaN</td>\n",
       "      <td>S</td>\n",
       "    </tr>\n",
       "  </tbody>\n",
       "</table>\n",
       "</div>"
      ],
      "text/plain": [
       "   PassengerId  Survived  Pclass  \\\n",
       "0            1         0       3   \n",
       "1            2         1       1   \n",
       "2            3         1       3   \n",
       "3            4         1       1   \n",
       "4            5         0       3   \n",
       "\n",
       "                                                Name     Sex   Age  SibSp  \\\n",
       "0                            Braund, Mr. Owen Harris    male  22.0      1   \n",
       "1  Cumings, Mrs. John Bradley (Florence Briggs Th...  female  38.0      1   \n",
       "2                             Heikkinen, Miss. Laina  female  26.0      0   \n",
       "3       Futrelle, Mrs. Jacques Heath (Lily May Peel)  female  35.0      1   \n",
       "4                           Allen, Mr. William Henry    male  35.0      0   \n",
       "\n",
       "   Parch            Ticket     Fare Cabin Embarked  \n",
       "0      0         A/5 21171   7.2500   NaN        S  \n",
       "1      0          PC 17599  71.2833   C85        C  \n",
       "2      0  STON/O2. 3101282   7.9250   NaN        S  \n",
       "3      0            113803  53.1000  C123        S  \n",
       "4      0            373450   8.0500   NaN        S  "
      ]
     },
     "execution_count": 3,
     "metadata": {},
     "output_type": "execute_result"
    }
   ],
   "source": [
    "titanic_df.head()"
   ]
  },
  {
   "cell_type": "code",
   "execution_count": 4,
   "metadata": {},
   "outputs": [
    {
     "data": {
      "text/html": [
       "<div>\n",
       "<style>\n",
       "    .dataframe thead tr:only-child th {\n",
       "        text-align: right;\n",
       "    }\n",
       "\n",
       "    .dataframe thead th {\n",
       "        text-align: left;\n",
       "    }\n",
       "\n",
       "    .dataframe tbody tr th {\n",
       "        vertical-align: top;\n",
       "    }\n",
       "</style>\n",
       "<table border=\"1\" class=\"dataframe\">\n",
       "  <thead>\n",
       "    <tr style=\"text-align: right;\">\n",
       "      <th></th>\n",
       "      <th>PassengerId</th>\n",
       "      <th>Survived</th>\n",
       "      <th>Pclass</th>\n",
       "      <th>Age</th>\n",
       "      <th>SibSp</th>\n",
       "      <th>Parch</th>\n",
       "      <th>Fare</th>\n",
       "    </tr>\n",
       "  </thead>\n",
       "  <tbody>\n",
       "    <tr>\n",
       "      <th>count</th>\n",
       "      <td>891.000000</td>\n",
       "      <td>891.000000</td>\n",
       "      <td>891.000000</td>\n",
       "      <td>714.000000</td>\n",
       "      <td>891.000000</td>\n",
       "      <td>891.000000</td>\n",
       "      <td>891.000000</td>\n",
       "    </tr>\n",
       "    <tr>\n",
       "      <th>mean</th>\n",
       "      <td>446.000000</td>\n",
       "      <td>0.383838</td>\n",
       "      <td>2.308642</td>\n",
       "      <td>29.699118</td>\n",
       "      <td>0.523008</td>\n",
       "      <td>0.381594</td>\n",
       "      <td>32.204208</td>\n",
       "    </tr>\n",
       "    <tr>\n",
       "      <th>std</th>\n",
       "      <td>257.353842</td>\n",
       "      <td>0.486592</td>\n",
       "      <td>0.836071</td>\n",
       "      <td>14.526497</td>\n",
       "      <td>1.102743</td>\n",
       "      <td>0.806057</td>\n",
       "      <td>49.693429</td>\n",
       "    </tr>\n",
       "    <tr>\n",
       "      <th>min</th>\n",
       "      <td>1.000000</td>\n",
       "      <td>0.000000</td>\n",
       "      <td>1.000000</td>\n",
       "      <td>0.420000</td>\n",
       "      <td>0.000000</td>\n",
       "      <td>0.000000</td>\n",
       "      <td>0.000000</td>\n",
       "    </tr>\n",
       "    <tr>\n",
       "      <th>25%</th>\n",
       "      <td>223.500000</td>\n",
       "      <td>0.000000</td>\n",
       "      <td>2.000000</td>\n",
       "      <td>20.125000</td>\n",
       "      <td>0.000000</td>\n",
       "      <td>0.000000</td>\n",
       "      <td>7.910400</td>\n",
       "    </tr>\n",
       "    <tr>\n",
       "      <th>50%</th>\n",
       "      <td>446.000000</td>\n",
       "      <td>0.000000</td>\n",
       "      <td>3.000000</td>\n",
       "      <td>28.000000</td>\n",
       "      <td>0.000000</td>\n",
       "      <td>0.000000</td>\n",
       "      <td>14.454200</td>\n",
       "    </tr>\n",
       "    <tr>\n",
       "      <th>75%</th>\n",
       "      <td>668.500000</td>\n",
       "      <td>1.000000</td>\n",
       "      <td>3.000000</td>\n",
       "      <td>38.000000</td>\n",
       "      <td>1.000000</td>\n",
       "      <td>0.000000</td>\n",
       "      <td>31.000000</td>\n",
       "    </tr>\n",
       "    <tr>\n",
       "      <th>max</th>\n",
       "      <td>891.000000</td>\n",
       "      <td>1.000000</td>\n",
       "      <td>3.000000</td>\n",
       "      <td>80.000000</td>\n",
       "      <td>8.000000</td>\n",
       "      <td>6.000000</td>\n",
       "      <td>512.329200</td>\n",
       "    </tr>\n",
       "  </tbody>\n",
       "</table>\n",
       "</div>"
      ],
      "text/plain": [
       "       PassengerId    Survived      Pclass         Age       SibSp  \\\n",
       "count   891.000000  891.000000  891.000000  714.000000  891.000000   \n",
       "mean    446.000000    0.383838    2.308642   29.699118    0.523008   \n",
       "std     257.353842    0.486592    0.836071   14.526497    1.102743   \n",
       "min       1.000000    0.000000    1.000000    0.420000    0.000000   \n",
       "25%     223.500000    0.000000    2.000000   20.125000    0.000000   \n",
       "50%     446.000000    0.000000    3.000000   28.000000    0.000000   \n",
       "75%     668.500000    1.000000    3.000000   38.000000    1.000000   \n",
       "max     891.000000    1.000000    3.000000   80.000000    8.000000   \n",
       "\n",
       "            Parch        Fare  \n",
       "count  891.000000  891.000000  \n",
       "mean     0.381594   32.204208  \n",
       "std      0.806057   49.693429  \n",
       "min      0.000000    0.000000  \n",
       "25%      0.000000    7.910400  \n",
       "50%      0.000000   14.454200  \n",
       "75%      0.000000   31.000000  \n",
       "max      6.000000  512.329200  "
      ]
     },
     "execution_count": 4,
     "metadata": {},
     "output_type": "execute_result"
    }
   ],
   "source": [
    "titanic_df.describe()"
   ]
  },
  {
   "cell_type": "markdown",
   "metadata": {},
   "source": [
    "### 观察缺失值数据并处理缺失值数据"
   ]
  },
  {
   "cell_type": "code",
   "execution_count": 5,
   "metadata": {
    "collapsed": true
   },
   "outputs": [],
   "source": [
    "#设计一个函数，返回一个字典，字典的key是是字段名，value是该字段有NaN值的个数。\n",
    "\n",
    "def get_null_record(df): #df为DataFrame对象\n",
    "    dict_null = {}\n",
    "    for column in df.columns:\n",
    "        if not len(df[df[column].isnull()]) == 0:\n",
    "            dict_null[column] = len(df[df[column].isnull()])\n",
    "    return dict_null"
   ]
  },
  {
   "cell_type": "code",
   "execution_count": 6,
   "metadata": {},
   "outputs": [
    {
     "name": "stdout",
     "output_type": "stream",
     "text": [
      "{'Age': 177, 'Cabin': 687, 'Embarked': 2}\n",
      "891\n"
     ]
    }
   ],
   "source": [
    "#确认一下titanic_df数据集中的每个字段的NaN值情况\n",
    "data_null_dic = get_null_record(titanic_df)\n",
    "print data_null_dic\n",
    "print len(titanic_df)"
   ]
  },
  {
   "cell_type": "markdown",
   "metadata": {},
   "source": [
    "#### 处理船舱Cabin字段的缺失值：\n",
    " 船舱Cabin字段的NaN数量太庞大，有687个，将这些缺失值用'Unknown'来填充。"
   ]
  },
  {
   "cell_type": "code",
   "execution_count": 7,
   "metadata": {
    "collapsed": true
   },
   "outputs": [],
   "source": [
    "titanic_df['Cabin'].fillna('Unknown', inplace = True)"
   ]
  },
  {
   "cell_type": "markdown",
   "metadata": {},
   "source": [
    "#### 处理年龄的缺失值：\n",
    "用年龄缺失值来填充这些缺失值。"
   ]
  },
  {
   "cell_type": "code",
   "execution_count": 8,
   "metadata": {
    "collapsed": true
   },
   "outputs": [],
   "source": [
    "mean_age = titanic_df['Age'].mean()\n",
    "titanic_df['Age'].fillna(mean_age,inplace = True)"
   ]
  },
  {
   "cell_type": "markdown",
   "metadata": {},
   "source": [
    "#### 处理登陆港口的缺失值：\n",
    "登陆港口的缺失值很少，只有2个，就随便选三种中一个来填充，这里选'S'填充。"
   ]
  },
  {
   "cell_type": "code",
   "execution_count": 9,
   "metadata": {
    "collapsed": true
   },
   "outputs": [],
   "source": [
    "titanic_df['Cabin'].fillna('S', inplace = True)"
   ]
  },
  {
   "cell_type": "markdown",
   "metadata": {},
   "source": [
    "<a id='eda'></a>\n",
    "## Exploratory Data Analysis\n",
    "\n",
    "\n",
    "\n",
    "\n",
    "### Research Question 1 : 年龄与乘客生还的情况怎么样？"
   ]
  },
  {
   "cell_type": "markdown",
   "metadata": {},
   "source": [
    "#### 1.1 单变量探索：生化或未生化数"
   ]
  },
  {
   "cell_type": "code",
   "execution_count": 10,
   "metadata": {},
   "outputs": [
    {
     "data": {
      "text/plain": [
       "<matplotlib.text.Text at 0x90cdcf8>"
      ]
     },
     "execution_count": 10,
     "metadata": {},
     "output_type": "execute_result"
    },
    {
     "data": {
      "image/png": "[encoded data removed]",
      "text/plain": [
       "<matplotlib.figure.Figure at 0x9149c88>"
      ]
     },
     "metadata": {},
     "output_type": "display_data"
    }
   ],
   "source": [
    "#画年龄的条形图\n",
    "survived_date = pd.Series(titanic_df.groupby(['Survived'])['PassengerId'].count().values,index = ['Not-survived','Survived'])\n",
    "survived_date.plot(kind='bar')\n",
    "\n",
    "plt.ylabel('Count')\n",
    "plt.title('Count vs Survived or Not-survived')\n"
   ]
  },
  {
   "cell_type": "markdown",
   "metadata": {},
   "source": [
    "从条形图看出，总体死亡人数比获救生还的人数多。"
   ]
  },
  {
   "cell_type": "markdown",
   "metadata": {},
   "source": [
    "#### 1.2 单变量探索：年龄"
   ]
  },
  {
   "cell_type": "code",
   "execution_count": 11,
   "metadata": {},
   "outputs": [
    {
     "data": {
      "image/png": "[encoded data removed]",
      "text/plain": [
       "<matplotlib.figure.Figure at 0x91c98d0>"
      ]
     },
     "metadata": {},
     "output_type": "display_data"
    }
   ],
   "source": [
    "#画年龄的直方图\n",
    "titanic_df['Age'].hist()\n",
    "#设置标题\n",
    "plt.title('Hist plot of Age', fontsize = 20)\n",
    "#消除网格线\n",
    "plt.grid(False)"
   ]
  },
  {
   "cell_type": "markdown",
   "metadata": {},
   "source": [
    "从年龄的直方图可以看出，大部分的乘客年龄在20-40虽之间。"
   ]
  },
  {
   "cell_type": "markdown",
   "metadata": {},
   "source": [
    "#### 1.3 计算年龄段与生还的相关系数"
   ]
  },
  {
   "cell_type": "code",
   "execution_count": 12,
   "metadata": {},
   "outputs": [
    {
     "name": "stdout",
     "output_type": "stream",
     "text": [
      "80.0\n"
     ]
    }
   ],
   "source": [
    "# 计算最大年龄\n",
    "age_max = titanic_df['Age'].max()\n",
    "print age_max"
   ]
  },
  {
   "cell_type": "code",
   "execution_count": 13,
   "metadata": {},
   "outputs": [
    {
     "name": "stdout",
     "output_type": "stream",
     "text": [
      "0.42\n"
     ]
    }
   ],
   "source": [
    "#计算最小年龄\n",
    "age_min = titanic_df['Age'].min()\n",
    "print age_min"
   ]
  },
  {
   "cell_type": "code",
   "execution_count": 14,
   "metadata": {},
   "outputs": [
    {
     "data": {
      "text/plain": [
       "array([ 0, 12, 24, 36, 48, 60, 72, 84])"
      ]
     },
     "execution_count": 14,
     "metadata": {},
     "output_type": "execute_result"
    }
   ],
   "source": [
    "#对age变量分组，间隔为12.年龄段将被分成['(0, 12]', '(12, 24]', '(24, 36]', '(36, 48]', '(48, 60]', '(60, 72]', '(72, 84]']\n",
    "bins = np.arange(0,90,12)\n",
    "bins"
   ]
  },
  {
   "cell_type": "code",
   "execution_count": 15,
   "metadata": {
    "collapsed": true
   },
   "outputs": [],
   "source": [
    "#新增一个变量Age_group,对应每个Age变量所属年龄段标签\n",
    "titanic_df['Age_group'] = pd.cut(titanic_df['Age'], bins)"
   ]
  },
  {
   "cell_type": "code",
   "execution_count": 16,
   "metadata": {},
   "outputs": [
    {
     "data": {
      "text/html": [
       "<div>\n",
       "<style>\n",
       "    .dataframe thead tr:only-child th {\n",
       "        text-align: right;\n",
       "    }\n",
       "\n",
       "    .dataframe thead th {\n",
       "        text-align: left;\n",
       "    }\n",
       "\n",
       "    .dataframe tbody tr th {\n",
       "        vertical-align: top;\n",
       "    }\n",
       "</style>\n",
       "<table border=\"1\" class=\"dataframe\">\n",
       "  <thead>\n",
       "    <tr style=\"text-align: right;\">\n",
       "      <th></th>\n",
       "      <th>PassengerId</th>\n",
       "      <th>Survived</th>\n",
       "      <th>Pclass</th>\n",
       "      <th>Name</th>\n",
       "      <th>Sex</th>\n",
       "      <th>Age</th>\n",
       "      <th>SibSp</th>\n",
       "      <th>Parch</th>\n",
       "      <th>Ticket</th>\n",
       "      <th>Fare</th>\n",
       "      <th>Cabin</th>\n",
       "      <th>Embarked</th>\n",
       "      <th>Age_group</th>\n",
       "    </tr>\n",
       "  </thead>\n",
       "  <tbody>\n",
       "    <tr>\n",
       "      <th>0</th>\n",
       "      <td>1</td>\n",
       "      <td>0</td>\n",
       "      <td>3</td>\n",
       "      <td>Braund, Mr. Owen Harris</td>\n",
       "      <td>male</td>\n",
       "      <td>22.0</td>\n",
       "      <td>1</td>\n",
       "      <td>0</td>\n",
       "      <td>A/5 21171</td>\n",
       "      <td>7.2500</td>\n",
       "      <td>Unknown</td>\n",
       "      <td>S</td>\n",
       "      <td>(12, 24]</td>\n",
       "    </tr>\n",
       "    <tr>\n",
       "      <th>1</th>\n",
       "      <td>2</td>\n",
       "      <td>1</td>\n",
       "      <td>1</td>\n",
       "      <td>Cumings, Mrs. John Bradley (Florence Briggs Th...</td>\n",
       "      <td>female</td>\n",
       "      <td>38.0</td>\n",
       "      <td>1</td>\n",
       "      <td>0</td>\n",
       "      <td>PC 17599</td>\n",
       "      <td>71.2833</td>\n",
       "      <td>C85</td>\n",
       "      <td>C</td>\n",
       "      <td>(36, 48]</td>\n",
       "    </tr>\n",
       "    <tr>\n",
       "      <th>2</th>\n",
       "      <td>3</td>\n",
       "      <td>1</td>\n",
       "      <td>3</td>\n",
       "      <td>Heikkinen, Miss. Laina</td>\n",
       "      <td>female</td>\n",
       "      <td>26.0</td>\n",
       "      <td>0</td>\n",
       "      <td>0</td>\n",
       "      <td>STON/O2. 3101282</td>\n",
       "      <td>7.9250</td>\n",
       "      <td>Unknown</td>\n",
       "      <td>S</td>\n",
       "      <td>(24, 36]</td>\n",
       "    </tr>\n",
       "    <tr>\n",
       "      <th>3</th>\n",
       "      <td>4</td>\n",
       "      <td>1</td>\n",
       "      <td>1</td>\n",
       "      <td>Futrelle, Mrs. Jacques Heath (Lily May Peel)</td>\n",
       "      <td>female</td>\n",
       "      <td>35.0</td>\n",
       "      <td>1</td>\n",
       "      <td>0</td>\n",
       "      <td>113803</td>\n",
       "      <td>53.1000</td>\n",
       "      <td>C123</td>\n",
       "      <td>S</td>\n",
       "      <td>(24, 36]</td>\n",
       "    </tr>\n",
       "    <tr>\n",
       "      <th>4</th>\n",
       "      <td>5</td>\n",
       "      <td>0</td>\n",
       "      <td>3</td>\n",
       "      <td>Allen, Mr. William Henry</td>\n",
       "      <td>male</td>\n",
       "      <td>35.0</td>\n",
       "      <td>0</td>\n",
       "      <td>0</td>\n",
       "      <td>373450</td>\n",
       "      <td>8.0500</td>\n",
       "      <td>Unknown</td>\n",
       "      <td>S</td>\n",
       "      <td>(24, 36]</td>\n",
       "    </tr>\n",
       "  </tbody>\n",
       "</table>\n",
       "</div>"
      ],
      "text/plain": [
       "   PassengerId  Survived  Pclass  \\\n",
       "0            1         0       3   \n",
       "1            2         1       1   \n",
       "2            3         1       3   \n",
       "3            4         1       1   \n",
       "4            5         0       3   \n",
       "\n",
       "                                                Name     Sex   Age  SibSp  \\\n",
       "0                            Braund, Mr. Owen Harris    male  22.0      1   \n",
       "1  Cumings, Mrs. John Bradley (Florence Briggs Th...  female  38.0      1   \n",
       "2                             Heikkinen, Miss. Laina  female  26.0      0   \n",
       "3       Futrelle, Mrs. Jacques Heath (Lily May Peel)  female  35.0      1   \n",
       "4                           Allen, Mr. William Henry    male  35.0      0   \n",
       "\n",
       "   Parch            Ticket     Fare    Cabin Embarked Age_group  \n",
       "0      0         A/5 21171   7.2500  Unknown        S  (12, 24]  \n",
       "1      0          PC 17599  71.2833      C85        C  (36, 48]  \n",
       "2      0  STON/O2. 3101282   7.9250  Unknown        S  (24, 36]  \n",
       "3      0            113803  53.1000     C123        S  (24, 36]  \n",
       "4      0            373450   8.0500  Unknown        S  (24, 36]  "
      ]
     },
     "execution_count": 16,
     "metadata": {},
     "output_type": "execute_result"
    }
   ],
   "source": [
    "titanic_df.head()"
   ]
  },
  {
   "cell_type": "code",
   "execution_count": 47,
   "metadata": {},
   "outputs": [
    {
     "data": {
      "text/plain": [
       "-0.056157878334184556"
      ]
     },
     "execution_count": 47,
     "metadata": {},
     "output_type": "execute_result"
    }
   ],
   "source": [
    "r = titanic_df['Survived'].corr(titanic_df['Age_group'], method='kendall')\n",
    "r"
   ]
  },
  {
   "cell_type": "markdown",
   "metadata": {},
   "source": [
    "年龄段与生还的相关系数很小，也即相关性很弱。相关系数在这里仅仅作为参考。"
   ]
  },
  {
   "cell_type": "markdown",
   "metadata": {},
   "source": [
    "#### 1.4 计算各年龄段和乘客生化的数据"
   ]
  },
  {
   "cell_type": "code",
   "execution_count": 18,
   "metadata": {},
   "outputs": [
    {
     "data": {
      "text/html": [
       "<div>\n",
       "<style>\n",
       "    .dataframe thead tr:only-child th {\n",
       "        text-align: right;\n",
       "    }\n",
       "\n",
       "    .dataframe thead th {\n",
       "        text-align: left;\n",
       "    }\n",
       "\n",
       "    .dataframe tbody tr th {\n",
       "        vertical-align: top;\n",
       "    }\n",
       "</style>\n",
       "<table border=\"1\" class=\"dataframe\">\n",
       "  <thead>\n",
       "    <tr style=\"text-align: right;\">\n",
       "      <th></th>\n",
       "      <th>Age_group</th>\n",
       "      <th>PassengerId</th>\n",
       "    </tr>\n",
       "  </thead>\n",
       "  <tbody>\n",
       "    <tr>\n",
       "      <th>0</th>\n",
       "      <td>(0, 12]</td>\n",
       "      <td>69</td>\n",
       "    </tr>\n",
       "    <tr>\n",
       "      <th>1</th>\n",
       "      <td>(12, 24]</td>\n",
       "      <td>208</td>\n",
       "    </tr>\n",
       "    <tr>\n",
       "      <th>2</th>\n",
       "      <td>(24, 36]</td>\n",
       "      <td>419</td>\n",
       "    </tr>\n",
       "    <tr>\n",
       "      <th>3</th>\n",
       "      <td>(36, 48]</td>\n",
       "      <td>115</td>\n",
       "    </tr>\n",
       "    <tr>\n",
       "      <th>4</th>\n",
       "      <td>(48, 60]</td>\n",
       "      <td>58</td>\n",
       "    </tr>\n",
       "    <tr>\n",
       "      <th>5</th>\n",
       "      <td>(60, 72]</td>\n",
       "      <td>20</td>\n",
       "    </tr>\n",
       "    <tr>\n",
       "      <th>6</th>\n",
       "      <td>(72, 84]</td>\n",
       "      <td>2</td>\n",
       "    </tr>\n",
       "  </tbody>\n",
       "</table>\n",
       "</div>"
      ],
      "text/plain": [
       "  Age_group  PassengerId\n",
       "0   (0, 12]           69\n",
       "1  (12, 24]          208\n",
       "2  (24, 36]          419\n",
       "3  (36, 48]          115\n",
       "4  (48, 60]           58\n",
       "5  (60, 72]           20\n",
       "6  (72, 84]            2"
      ]
     },
     "execution_count": 18,
     "metadata": {},
     "output_type": "execute_result"
    }
   ],
   "source": [
    "#统计每个年龄段的总人数\n",
    "df_total_count_each_age_group = titanic_df.groupby(['Age_group'],as_index = False)['PassengerId'].count()\n",
    "df_total_count_each_age_group"
   ]
  },
  {
   "cell_type": "code",
   "execution_count": 19,
   "metadata": {},
   "outputs": [
    {
     "data": {
      "text/html": [
       "<div>\n",
       "<style>\n",
       "    .dataframe thead tr:only-child th {\n",
       "        text-align: right;\n",
       "    }\n",
       "\n",
       "    .dataframe thead th {\n",
       "        text-align: left;\n",
       "    }\n",
       "\n",
       "    .dataframe tbody tr th {\n",
       "        vertical-align: top;\n",
       "    }\n",
       "</style>\n",
       "<table border=\"1\" class=\"dataframe\">\n",
       "  <thead>\n",
       "    <tr style=\"text-align: right;\">\n",
       "      <th></th>\n",
       "      <th>Age_group</th>\n",
       "      <th>PassengerId</th>\n",
       "    </tr>\n",
       "  </thead>\n",
       "  <tbody>\n",
       "    <tr>\n",
       "      <th>0</th>\n",
       "      <td>(0, 12]</td>\n",
       "      <td>40</td>\n",
       "    </tr>\n",
       "    <tr>\n",
       "      <th>1</th>\n",
       "      <td>(12, 24]</td>\n",
       "      <td>78</td>\n",
       "    </tr>\n",
       "    <tr>\n",
       "      <th>2</th>\n",
       "      <td>(24, 36]</td>\n",
       "      <td>152</td>\n",
       "    </tr>\n",
       "    <tr>\n",
       "      <th>3</th>\n",
       "      <td>(36, 48]</td>\n",
       "      <td>41</td>\n",
       "    </tr>\n",
       "    <tr>\n",
       "      <th>4</th>\n",
       "      <td>(48, 60]</td>\n",
       "      <td>26</td>\n",
       "    </tr>\n",
       "    <tr>\n",
       "      <th>5</th>\n",
       "      <td>(60, 72]</td>\n",
       "      <td>4</td>\n",
       "    </tr>\n",
       "    <tr>\n",
       "      <th>6</th>\n",
       "      <td>(72, 84]</td>\n",
       "      <td>1</td>\n",
       "    </tr>\n",
       "  </tbody>\n",
       "</table>\n",
       "</div>"
      ],
      "text/plain": [
       "  Age_group  PassengerId\n",
       "0   (0, 12]           40\n",
       "1  (12, 24]           78\n",
       "2  (24, 36]          152\n",
       "3  (36, 48]           41\n",
       "4  (48, 60]           26\n",
       "5  (60, 72]            4\n",
       "6  (72, 84]            1"
      ]
     },
     "execution_count": 19,
     "metadata": {},
     "output_type": "execute_result"
    }
   ],
   "source": [
    "#统计每个年龄段的生还人数\n",
    "df_survival_count_each_age_group = titanic_df[titanic_df['Survived'] == 1].groupby(['Age_group'], as_index = False)['PassengerId'].count()\n",
    "df_survival_count_each_age_group"
   ]
  },
  {
   "cell_type": "code",
   "execution_count": 20,
   "metadata": {},
   "outputs": [
    {
     "data": {
      "text/plain": [
       "Age_group\n",
       "(0, 12]     0.579710\n",
       "(12, 24]    0.375000\n",
       "(24, 36]    0.362768\n",
       "(36, 48]    0.356522\n",
       "(48, 60]    0.448276\n",
       "(60, 72]    0.200000\n",
       "(72, 84]    0.500000\n",
       "dtype: float64"
      ]
     },
     "execution_count": 20,
     "metadata": {},
     "output_type": "execute_result"
    }
   ],
   "source": [
    "#计算每个年龄段的生还率\n",
    "survival_rate_each_group = df_survival_count_each_age_group['PassengerId']/df_total_count_each_age_group['PassengerId']\n",
    "survival_rate_each_group = pd.Series(survival_rate_each_group.values, index = df_survival_count_each_age_group['Age_group'])\n",
    "survival_rate_each_group"
   ]
  },
  {
   "cell_type": "markdown",
   "metadata": {
    "collapsed": true
   },
   "source": [
    "#### 1.5 可视化年龄段与生还率"
   ]
  },
  {
   "cell_type": "code",
   "execution_count": 21,
   "metadata": {},
   "outputs": [
    {
     "data": {
      "text/plain": [
       "<matplotlib.text.Text at 0xb3a40b8>"
      ]
     },
     "execution_count": 21,
     "metadata": {},
     "output_type": "execute_result"
    },
    {
     "data": {
      "image/png": "[encoded data removed]",
      "text/plain": [
       "<matplotlib.figure.Figure at 0xb36fb00>"
      ]
     },
     "metadata": {},
     "output_type": "display_data"
    }
   ],
   "source": [
    "#可视化每个年龄段的生还人数\n",
    "titanic_df.groupby(['Age_group'])['PassengerId'].count().plot(kind='bar')\n",
    "plt.title('Count vs Age_group')\n",
    "plt.ylabel('Survival Count')"
   ]
  },
  {
   "cell_type": "markdown",
   "metadata": {},
   "source": [
    "生还人数最多的年龄段在24-36岁之间。"
   ]
  },
  {
   "cell_type": "code",
   "execution_count": 22,
   "metadata": {},
   "outputs": [
    {
     "data": {
      "text/plain": [
       "<matplotlib.axes._subplots.AxesSubplot at 0xb36f0b8>"
      ]
     },
     "execution_count": 22,
     "metadata": {},
     "output_type": "execute_result"
    },
    {
     "data": {
      "image/png": "[encoded data removed]",
      "text/plain": [
       "<matplotlib.figure.Figure at 0xb4a57f0>"
      ]
     },
     "metadata": {},
     "output_type": "display_data"
    }
   ],
   "source": [
    "#可视化每个年龄段的生还率\n",
    "survival_rate_each_group.plot(kind='bar')"
   ]
  },
  {
   "cell_type": "markdown",
   "metadata": {
    "collapsed": true
   },
   "source": [
    "在(0-12]年龄的乘客生还率最高，在(60,72]年龄段的乘客的生还率最低，其它各年龄段的生还率差别不是很大。"
   ]
  },
  {
   "cell_type": "markdown",
   "metadata": {
    "collapsed": true
   },
   "source": [
    "> 结论：\n",
    ">1. 死亡人数比获救人数多。\n",
    ">2. 生还与年龄段的相关系数很小。\n",
    ">3. 生还人数最多的年龄段在24-36岁之间。\n",
    ">4. 在(0-12]年龄的乘客生还率最高，在(60,72]年龄段的乘客的生还率最低，其它各年龄段的生还率差别不是很大。"
   ]
  },
  {
   "cell_type": "markdown",
   "metadata": {},
   "source": [
    "<a id='question2'></a>\n",
    "### Research Question 2：性别与乘客生化的情况怎么样？"
   ]
  },
  {
   "cell_type": "markdown",
   "metadata": {},
   "source": [
    "#### 2.1 单变量探索：性别"
   ]
  },
  {
   "cell_type": "code",
   "execution_count": 23,
   "metadata": {},
   "outputs": [
    {
     "data": {
      "text/plain": [
       "<matplotlib.text.Text at 0xb849898>"
      ]
     },
     "execution_count": 23,
     "metadata": {},
     "output_type": "execute_result"
    },
    {
     "data": {
      "image/png": "[encoded data removed]",
      "text/plain": [
       "<matplotlib.figure.Figure at 0x9515ef0>"
      ]
     },
     "metadata": {},
     "output_type": "display_data"
    }
   ],
   "source": [
    "#画所有乘客性别的条形图\n",
    "sex_data = titanic_df.groupby(['Sex']).PassengerId.count()\n",
    "sex_data.plot(kind='bar')\n",
    "\n",
    "plt.ylabel('Count')\n",
    "plt.title('Count vs Sex')"
   ]
  },
  {
   "cell_type": "markdown",
   "metadata": {},
   "source": [
    "从条形图可以看出，船上的男性乘客比女性乘客的数量多。"
   ]
  },
  {
   "cell_type": "markdown",
   "metadata": {},
   "source": [
    "#### 2.2 计算性别与生还的相关系数"
   ]
  },
  {
   "cell_type": "code",
   "execution_count": 24,
   "metadata": {},
   "outputs": [
    {
     "data": {
      "text/plain": [
       "-0.54335138065775512"
      ]
     },
     "execution_count": 24,
     "metadata": {},
     "output_type": "execute_result"
    }
   ],
   "source": [
    "titanic_df['Survived'].corr(titanic_df['Sex'], method = 'kendall')"
   ]
  },
  {
   "cell_type": "markdown",
   "metadata": {},
   "source": [
    "生还字段与性别字段的相关系数也不强。 相关系数在这里仅仅作为参考。"
   ]
  },
  {
   "cell_type": "markdown",
   "metadata": {},
   "source": [
    "#### 2.3 计算性别与生还的数据"
   ]
  },
  {
   "cell_type": "code",
   "execution_count": 25,
   "metadata": {},
   "outputs": [
    {
     "data": {
      "text/plain": [
       "Sex\n",
       "female    314\n",
       "male      577\n",
       "Name: PassengerId, dtype: int64"
      ]
     },
     "execution_count": 25,
     "metadata": {},
     "output_type": "execute_result"
    }
   ],
   "source": [
    "#计算男女人数放在Series里\n",
    "total_count_sex = titanic_df.groupby(['Sex'])['PassengerId'].count()\n",
    "total_count_sex\n"
   ]
  },
  {
   "cell_type": "code",
   "execution_count": 26,
   "metadata": {},
   "outputs": [
    {
     "data": {
      "text/plain": [
       "Sex\n",
       "female    233\n",
       "male      109\n",
       "Name: PassengerId, dtype: int64"
      ]
     },
     "execution_count": 26,
     "metadata": {},
     "output_type": "execute_result"
    }
   ],
   "source": [
    "#计算男女性别各自的生化人数，放在Series里\n",
    "survival_count_sex = titanic_df[titanic_df['Survived'] == 1].groupby('Sex')['PassengerId'].count()\n",
    "survival_count_sex"
   ]
  },
  {
   "cell_type": "code",
   "execution_count": 27,
   "metadata": {},
   "outputs": [
    {
     "data": {
      "text/plain": [
       "Sex\n",
       "female    0.742038\n",
       "male      0.188908\n",
       "Name: PassengerId, dtype: float64"
      ]
     },
     "execution_count": 27,
     "metadata": {},
     "output_type": "execute_result"
    }
   ],
   "source": [
    "#计算男女乘客的生还率，数据放在Series里\n",
    "survival_rate_sex = survival_count_sex/total_count_sex\n",
    "survival_rate_sex"
   ]
  },
  {
   "cell_type": "markdown",
   "metadata": {},
   "source": [
    "#### 2.4 可视化性别与生还率"
   ]
  },
  {
   "cell_type": "code",
   "execution_count": 28,
   "metadata": {},
   "outputs": [
    {
     "data": {
      "image/png": "[encoded data removed]",
      "text/plain": [
       "<matplotlib.figure.Figure at 0xb835358>"
      ]
     },
     "metadata": {},
     "output_type": "display_data"
    }
   ],
   "source": [
    "ax1 = plt.subplot(121)\n",
    "survival_count_sex.plot(kind='bar', color='green')\n",
    "ax1.set_ylabel('Survival Count')\n",
    "\n",
    "ax2 = plt.subplot(122)\n",
    "survival_rate_sex.plot(kind='bar')\n",
    "ax2.set_ylabel('Survival Rate')\n",
    "\n",
    "plt.subplots_adjust(left = 0.2, right = 1.5, wspace=0.8)\n"
   ]
  },
  {
   "cell_type": "markdown",
   "metadata": {},
   "source": [
    "从条形图看，女性的生还人数比男性多，女性的生化率也比男性高。"
   ]
  },
  {
   "cell_type": "markdown",
   "metadata": {},
   "source": [
    "> 结论：\n",
    ">1. 船上男性乘客比女性乘客数量多。\n",
    ">2. 性别与生还的相关系数也较小。\n",
    ">3. 女性乘客获救的数量比男性多。\n",
    ">4. 女性的生还率也比男性高。"
   ]
  },
  {
   "cell_type": "markdown",
   "metadata": {},
   "source": [
    "<a id='question3'></a>\n",
    "### Research Question 3：不同的票等级(pclass)与乘客生还的情况？"
   ]
  },
  {
   "cell_type": "markdown",
   "metadata": {},
   "source": [
    "#### 3.1 单变量探索：船上三个票等级的乘客的分布情况"
   ]
  },
  {
   "cell_type": "code",
   "execution_count": 29,
   "metadata": {},
   "outputs": [
    {
     "data": {
      "text/plain": [
       "<matplotlib.text.Text at 0xbba0898>"
      ]
     },
     "execution_count": 29,
     "metadata": {},
     "output_type": "execute_result"
    },
    {
     "data": {
      "image/png": "[encoded data removed]",
      "text/plain": [
       "<matplotlib.figure.Figure at 0x9465ba8>"
      ]
     },
     "metadata": {},
     "output_type": "display_data"
    }
   ],
   "source": [
    "#画三种票等级人数的比例饼图\n",
    "count_each_pclass = pd.Series(titanic_df.groupby(['Pclass'])['PassengerId'].count().values, \n",
    "                        index = ['1-Upper','2-Middle','3-Lower'])\n",
    "\n",
    "count_each_pclass.plot(kind='pie', autopct = '%1.1f%%', shadow = True, explode = [0.05,0.05,0.05])\n",
    "\n",
    "plt.axis('equal')\n",
    "plt.ylabel('')"
   ]
  },
  {
   "cell_type": "markdown",
   "metadata": {},
   "source": [
    "从饼图可以看出，所有乘客中，票等级是3(Lower)等级的乘客比例最高, 超过一半。"
   ]
  },
  {
   "cell_type": "markdown",
   "metadata": {},
   "source": [
    "#### 3.2 计算生还字段(Survived)与票等级(Pclass)的相关系数"
   ]
  },
  {
   "cell_type": "code",
   "execution_count": 30,
   "metadata": {},
   "outputs": [
    {
     "data": {
      "text/plain": [
       "-0.32353318439409545"
      ]
     },
     "execution_count": 30,
     "metadata": {},
     "output_type": "execute_result"
    }
   ],
   "source": [
    "titanic_df['Survived'].corr(titanic_df['Pclass'], method = 'kendall')"
   ]
  },
  {
   "cell_type": "markdown",
   "metadata": {},
   "source": [
    "生还字段与票等级字段的相关系数很小，相关度很弱。相关系数在这里仅仅作为参考。"
   ]
  },
  {
   "cell_type": "markdown",
   "metadata": {},
   "source": [
    "#### 3.3 计算三种票等级的乘客的数据"
   ]
  },
  {
   "cell_type": "code",
   "execution_count": 31,
   "metadata": {},
   "outputs": [
    {
     "data": {
      "text/plain": [
       "1-Upper     136\n",
       "2-Middle     87\n",
       "3-Lower     119\n",
       "dtype: int64"
      ]
     },
     "execution_count": 31,
     "metadata": {},
     "output_type": "execute_result"
    }
   ],
   "source": [
    "#计算三种票的乘客的生还数\n",
    "survived_count_each_pclass = pd.Series(titanic_df[titanic_df['Survived'] == 1].groupby(['Pclass'])['PassengerId'].count().values,\n",
    "                                      index = ['1-Upper','2-Middle','3-Lower'])\n",
    "survived_count_each_pclass"
   ]
  },
  {
   "cell_type": "code",
   "execution_count": 32,
   "metadata": {},
   "outputs": [
    {
     "data": {
      "text/plain": [
       "1-Upper     0.629630\n",
       "2-Middle    0.472826\n",
       "3-Lower     0.242363\n",
       "dtype: float64"
      ]
     },
     "execution_count": 32,
     "metadata": {},
     "output_type": "execute_result"
    }
   ],
   "source": [
    "#计算三种票的乘客的各自的生还率\n",
    "survived_rate_each_pclass = survived_count_each_pclass/count_each_pclass\n",
    "survived_rate_each_pclass"
   ]
  },
  {
   "cell_type": "markdown",
   "metadata": {},
   "source": [
    "#### 3.4 可视化票等级与生还率"
   ]
  },
  {
   "cell_type": "code",
   "execution_count": 33,
   "metadata": {},
   "outputs": [
    {
     "data": {
      "image/png": "[encoded data removed]",
      "text/plain": [
       "<matplotlib.figure.Figure at 0xbbab0b8>"
      ]
     },
     "metadata": {},
     "output_type": "display_data"
    }
   ],
   "source": [
    "#画条形图\n",
    "ax1 = plt.subplot(121)\n",
    "survived_count_each_pclass.plot(kind='bar', color='green')\n",
    "ax1.set_ylabel('Survival Count')\n",
    "ax1.set_title('Survived Count vs Pclass')\n",
    "\n",
    "\n",
    "ax2 = plt.subplot(122)\n",
    "survived_rate_each_pclass.plot(kind='bar', color='blue')\n",
    "ax2.set_ylabel('Survived Rate')\n",
    "ax2.set_title('Survived Rate vs Pclass')\n",
    "\n",
    "plt.subplots_adjust(left=0.2, right = 2.0, wspace = 0.8)"
   ]
  },
  {
   "cell_type": "markdown",
   "metadata": {},
   "source": [
    "从条形图看，票等级为1(1-Upper)的乘客的生还人数较多，票等级为1(1-Upper)的乘客的生还率也较高。"
   ]
  },
  {
   "cell_type": "markdown",
   "metadata": {},
   "source": [
    "> 结论：\n",
    ">1. 持等级3(Lower)票的乘客数量的比例最高。\n",
    ">2. 票等级字段与生还字段的相关系数很小。\n",
    ">3. 从条形图看，持等级为1(1-Upper)票的乘客的生还数量最多。\n",
    ">4. 从条形图看，持等级为1(1-Upper)票的乘客的生还率也较高。"
   ]
  },
  {
   "cell_type": "markdown",
   "metadata": {},
   "source": [
    "<a id='question4'></a>\n",
    "### Research Question 4：不同登陆港口的乘客与生化情况如何？"
   ]
  },
  {
   "cell_type": "markdown",
   "metadata": {},
   "source": [
    "#### 4.1 单变量探索：看看从三个港口登陆的乘客的数量分布情况"
   ]
  },
  {
   "cell_type": "code",
   "execution_count": 34,
   "metadata": {},
   "outputs": [
    {
     "data": {
      "text/plain": [
       "Embarked\n",
       "C    168\n",
       "Q     77\n",
       "S    644\n",
       "Name: PassengerId, dtype: int64"
      ]
     },
     "execution_count": 34,
     "metadata": {},
     "output_type": "execute_result"
    }
   ],
   "source": [
    "titanic_df.groupby(['Embarked'])['PassengerId'].count()"
   ]
  },
  {
   "cell_type": "code",
   "execution_count": 35,
   "metadata": {},
   "outputs": [
    {
     "data": {
      "text/plain": [
       "Embarked\n",
       "C    168\n",
       "Q     77\n",
       "S    644\n",
       "Name: PassengerId, dtype: int64"
      ]
     },
     "execution_count": 35,
     "metadata": {},
     "output_type": "execute_result"
    }
   ],
   "source": [
    "#计算分别从三个港口登陆的数量. C = Cherbourg, Q = Queenstown, S = Southampton\n",
    "count_from_each_port = titanic_df.groupby(['Embarked'])['PassengerId'].count()\n",
    "count_from_each_port"
   ]
  },
  {
   "cell_type": "code",
   "execution_count": 36,
   "metadata": {},
   "outputs": [
    {
     "data": {
      "text/plain": [
       "<matplotlib.text.Text at 0xc0e96d8>"
      ]
     },
     "execution_count": 36,
     "metadata": {},
     "output_type": "execute_result"
    },
    {
     "data": {
      "image/png": "[encoded data removed]",
      "text/plain": [
       "<matplotlib.figure.Figure at 0xbba0390>"
      ]
     },
     "metadata": {},
     "output_type": "display_data"
    }
   ],
   "source": [
    "#画从三个港口登录的乘客的饼图\n",
    "count_from_each_port.plot(kind='pie',autopct = '%1.1f%%', shadow = True, explode = [0.05,0.05,0.05])\n",
    "plt.axis('equal')\n",
    "plt.ylabel('')"
   ]
  },
  {
   "cell_type": "markdown",
   "metadata": {},
   "source": [
    "从饼图看出，从S港口(Southampton)登录的乘客最多，达到70%多。"
   ]
  },
  {
   "cell_type": "markdown",
   "metadata": {},
   "source": [
    "#### 4.2 计算登陆港口字段(Embarked)与生还字段的相关系数"
   ]
  },
  {
   "cell_type": "code",
   "execution_count": 37,
   "metadata": {
    "scrolled": true
   },
   "outputs": [
    {
     "data": {
      "text/plain": [
       "-0.15779501104311747"
      ]
     },
     "execution_count": 37,
     "metadata": {},
     "output_type": "execute_result"
    }
   ],
   "source": [
    "titanic_df['Survived'].corr(titanic_df['Embarked'], method = 'kendall')"
   ]
  },
  {
   "cell_type": "markdown",
   "metadata": {},
   "source": [
    "生还字段与登陆港口字段的相关系数很小，相关度很弱。相关系数在这里仅仅作为参考。"
   ]
  },
  {
   "cell_type": "markdown",
   "metadata": {},
   "source": [
    "#### 4.3 计算各个港口登陆的乘客的生还数据"
   ]
  },
  {
   "cell_type": "code",
   "execution_count": 38,
   "metadata": {},
   "outputs": [
    {
     "data": {
      "text/plain": [
       "Embarked\n",
       "C     93\n",
       "Q     30\n",
       "S    217\n",
       "Name: PassengerId, dtype: int64"
      ]
     },
     "execution_count": 38,
     "metadata": {},
     "output_type": "execute_result"
    }
   ],
   "source": [
    "#计算从三个港口登陆的乘客的生还数\n",
    "survived_count_each_port = titanic_df[titanic_df['Survived'] == 1].groupby(['Embarked'])['PassengerId'].count()\n",
    "survived_count_each_port"
   ]
  },
  {
   "cell_type": "code",
   "execution_count": 39,
   "metadata": {},
   "outputs": [
    {
     "data": {
      "text/plain": [
       "Embarked\n",
       "C    0.553571\n",
       "Q    0.389610\n",
       "S    0.336957\n",
       "Name: PassengerId, dtype: float64"
      ]
     },
     "execution_count": 39,
     "metadata": {},
     "output_type": "execute_result"
    }
   ],
   "source": [
    "#计算从每个港口登录的乘客的生还率\n",
    "survived_rate_each_port = survived_count_each_port/count_from_each_port\n",
    "survived_rate_each_port"
   ]
  },
  {
   "cell_type": "markdown",
   "metadata": {
    "collapsed": true
   },
   "source": [
    "#### 4.4 可视化每个港口的生还率"
   ]
  },
  {
   "cell_type": "code",
   "execution_count": 40,
   "metadata": {},
   "outputs": [
    {
     "data": {
      "image/png": "[encoded data removed]",
      "text/plain": [
       "<matplotlib.figure.Figure at 0xbb92908>"
      ]
     },
     "metadata": {},
     "output_type": "display_data"
    }
   ],
   "source": [
    "#画条形图\n",
    "ax1 = plt.subplot(121)\n",
    "survived_count_each_port.plot(kind='bar',color = 'green')\n",
    "ax1.set_ylabel('Survival Count')\n",
    "ax1.set_title('Survival Count vs Port Name')\n",
    "\n",
    "ax2 = plt.subplot(122)\n",
    "survived_rate_each_port.plot(kind='bar', color = 'blue')\n",
    "ax2.set_ylabel('Survival Rate')\n",
    "ax2.set_title('Survival Rate vs Port Name')\n",
    "\n",
    "plt.subplots_adjust(left = 0.2, right = 2, wspace = 0.4)"
   ]
  },
  {
   "cell_type": "markdown",
   "metadata": {},
   "source": [
    "从条形图看出，从S港口登录的乘客生还人数最多，而从C港口登录的乘客的生还率最高。"
   ]
  },
  {
   "cell_type": "markdown",
   "metadata": {},
   "source": [
    "> 结论：\n",
    ">1. 从S港口登陆的乘客数量最多。\n",
    ">2. 生还字段与登陆港口字段的相关系数很小。\n",
    ">3. 从条形图看，S港口的乘客生还数量最多。\n",
    ">4. 从条形图看，从C港口登陆的乘客的生还率最高。"
   ]
  },
  {
   "cell_type": "markdown",
   "metadata": {},
   "source": [
    "<a id='question5'></a>\n",
    "### Research Question 5：费用与票价等级的对应关系如何？"
   ]
  },
  {
   "cell_type": "markdown",
   "metadata": {},
   "source": [
    "#### 5.1 单变量探索：费用"
   ]
  },
  {
   "cell_type": "code",
   "execution_count": 41,
   "metadata": {},
   "outputs": [
    {
     "data": {
      "image/png": "[encoded data removed]",
      "text/plain": [
       "<matplotlib.figure.Figure at 0xc72cef0>"
      ]
     },
     "metadata": {},
     "output_type": "display_data"
    }
   ],
   "source": [
    "#画费用的直方图\n",
    "titanic_df['Fare'].hist()\n",
    "#设置标题\n",
    "plt.title('Hist plot of Fare')\n",
    "#消除网格线\n",
    "plt.grid(False)"
   ]
  },
  {
   "cell_type": "markdown",
   "metadata": {},
   "source": [
    "从直方图看出，大部分乘客的费用很低，在0-100之间。"
   ]
  },
  {
   "cell_type": "markdown",
   "metadata": {},
   "source": [
    "#### 5.2 可视化：画票等级与费用的箱线图"
   ]
  },
  {
   "cell_type": "code",
   "execution_count": 42,
   "metadata": {},
   "outputs": [
    {
     "data": {
      "image/png": "[encoded data removed]",
      "text/plain": [
       "<matplotlib.figure.Figure at 0xc8314a8>"
      ]
     },
     "metadata": {},
     "output_type": "display_data"
    }
   ],
   "source": [
    "#画箱线图\n",
    "fare_pclass_1 = titanic_df[titanic_df['Pclass'] == 1]['Fare']\n",
    "fare_pclass_2 = titanic_df[titanic_df['Pclass'] == 2]['Fare']\n",
    "fare_pclass_3 = titanic_df[titanic_df['Pclass'] == 3]['Fare']\n",
    "\n",
    "plt.boxplot([fare_pclass_1,fare_pclass_2,fare_pclass_3], labels=['1-Upper', '2-Middle', '3-Lower'])\n",
    "#设置y轴标签\n",
    "plt.ylabel('Fare', fontsize = 12)\n",
    "#设置标题\n",
    "plt.title('Boxplot of Fare vs Pclass', fontsize = 12, color = 'red')\n",
    "#设置y轴边界值\n",
    "plt.ylim(-20,550)\n",
    "#添加网格线\n",
    "plt.grid()\n"
   ]
  },
  {
   "cell_type": "markdown",
   "metadata": {
    "collapsed": true
   },
   "source": [
    "从箱线图看出，票等级不同的乘客的费用是不同的，总体上1级(1-Upper)平均费用最高，其次到2级(2-Middle)，3级(3-Lower)费用最低。"
   ]
  },
  {
   "cell_type": "markdown",
   "metadata": {
    "collapsed": true
   },
   "source": [
    "<a id='question6'></a>\n",
    "### Research Question 6：不同费用的乘客的生还情况如何？"
   ]
  },
  {
   "cell_type": "markdown",
   "metadata": {},
   "source": [
    "#### 画费用与生化与否的箱线图"
   ]
  },
  {
   "cell_type": "code",
   "execution_count": 43,
   "metadata": {
    "collapsed": true
   },
   "outputs": [],
   "source": [
    "#计算生还和死亡的乘客的费用\n",
    "fare_survival = titanic_df[titanic_df['Survived'] == 1]['Fare']\n",
    "fare_notsurvival = titanic_df[titanic_df['Survived'] == 0]['Fare']"
   ]
  },
  {
   "cell_type": "code",
   "execution_count": 44,
   "metadata": {},
   "outputs": [
    {
     "data": {
      "text/plain": [
       "<matplotlib.text.Text at 0xcd9aeb8>"
      ]
     },
     "execution_count": 44,
     "metadata": {},
     "output_type": "execute_result"
    },
    {
     "data": {
      "image/png": "[encoded data removed]",
      "text/plain": [
       "<matplotlib.figure.Figure at 0xcab2940>"
      ]
     },
     "metadata": {},
     "output_type": "display_data"
    }
   ],
   "source": [
    "#画箱线图\n",
    "plt.boxplot([fare_survival,fare_notsurvival], labels = ['Survived', 'Not Survived'])\n",
    "#设置y轴边界值\n",
    "plt.ylim([-20, 550])\n",
    "#设置y轴标签\n",
    "plt.ylabel('Fare', fontsize = 20)\n",
    "#添加网格线\n",
    "plt.grid()\n",
    "#添加标题\n",
    "plt.title('Fare vs Survived or not Survived', fontsize = 20)\n"
   ]
  },
  {
   "cell_type": "markdown",
   "metadata": {
    "collapsed": true
   },
   "source": [
    "从箱线图看，生还的乘客总体上费用更高。"
   ]
  },
  {
   "cell_type": "markdown",
   "metadata": {},
   "source": [
    "<a id='question7'></a>\n",
    "### Research Question 7：从三个港口登陆的乘客的费用是否有不同？"
   ]
  },
  {
   "cell_type": "markdown",
   "metadata": {},
   "source": [
    "#### 画费用与不同港口的项线图"
   ]
  },
  {
   "cell_type": "code",
   "execution_count": 45,
   "metadata": {
    "collapsed": true
   },
   "outputs": [],
   "source": [
    "#分别计算从三个港口登陆的乘客的费用\n",
    "fare_port_c = titanic_df[titanic_df['Embarked'] == 'C']['Fare']\n",
    "fare_port_q = titanic_df[titanic_df['Embarked'] == 'Q']['Fare']\n",
    "fare_port_s = titanic_df[titanic_df['Embarked'] == 'S']['Fare']"
   ]
  },
  {
   "cell_type": "code",
   "execution_count": 46,
   "metadata": {},
   "outputs": [
    {
     "data": {
      "image/png": "[encoded data removed]",
      "text/plain": [
       "<matplotlib.figure.Figure at 0xca4e588>"
      ]
     },
     "metadata": {},
     "output_type": "display_data"
    }
   ],
   "source": [
    "#画箱线图\n",
    "plt.boxplot((fare_port_c,fare_port_q,fare_port_s), labels = ('C','Q','S'))\n",
    "#设置x轴标签\n",
    "plt.xlabel('Port Name', fontsize = 10)\n",
    "#设置y轴标签\n",
    "plt.ylabel('Fare', fontsize = 10)\n",
    "#设置标题\n",
    "plt.title('Fare vs Embarked',fontsize = 20)\n",
    "#设置网格线\n",
    "plt.grid(True)"
   ]
  },
  {
   "cell_type": "markdown",
   "metadata": {
    "collapsed": true
   },
   "source": [
    "总体上，从C港口登陆的乘客的费用较高。"
   ]
  },
  {
   "cell_type": "markdown",
   "metadata": {},
   "source": [
    "<a id='conclusions'></a>\n",
    "## Conclusions\n",
    "### 单变量探索\n",
    "(1). 总体死亡人数比获救生还的人数多。<br />\n",
    "(2). 大部分的乘客年龄在20-40虽之间。<br />\n",
    "(3). 船上的男性乘客比女性乘客的数量多。<br />\n",
    "(4). 所有乘客中，票等级是3(Lower)等级的乘客比例最高, 超过一半。<br />\n",
    "(5). 从S港口登陆的乘客数量最多。<br />\n",
    "(6). 大部分乘客的费用很低，在0-100之间。\n",
    "\n",
    "### 部分变量的相关系数\n",
    "(1). 生还字段与年龄段字段的相关系数很小，r = -0.0562(年龄段被划分成['(0, 12]', '(12, 24]', '(24, 36]', '(36, 48]', '(48, 60]', '(60, 72]', '(72, 84]'] <br />\n",
    "(2). 生还字段与性别字段的相关系数很小，r = -0.5434 <br />\n",
    "(3). 生还字段与票等级字段的相关系数很小，r = -0.3235 <br />\n",
    "(4). 生还字段与登陆港口字段的相关系数很小，r = -0.1578<br />\n",
    "相关系数在这里仅仅作为参考。\n",
    "\n",
    "### 生还率数据探索结果 & 费用数据探索结果\n",
    "(1). 在(0-12]年龄的乘客生还率最高，在(60,72]年龄段的乘客的生还率最低，其它各年龄段的生还率差别不是很大。<br />\n",
    "(2). 女性的生还数量比男性多，女性的生还率也比男性高。<br />\n",
    "(3). 票等级为1(Upper)的乘客的生还率最高。<br />\n",
    "(4). S港口的乘客生还数最多，但是C港口的乘客的生还率最高。<br />\n",
    "<br />\n",
    "(5). 票等级不同的乘客的费用是不同的，总体上1级(1-Upper)平均费用最高，其次到2级(2-Middle)，3级(3-Lower)费用最低。<br />\n",
    "(6). 生还的乘客总体上费用更高。<br />\n",
    "(7). 从C港口登陆的乘客的费用较高。\n",
    "### 存在的限制性\n",
    "(1). 年龄的缺失值有177个，报告中是用平均值来填充的，是否可能会使数据出现偏差而导致分析出现偏差呢？<br />\n",
    "(2). 报告中分别计算的生还率与几个变量之间的相关系数都很小，相关性很弱。是不是还有其它因素影响到生还率还没有数据呢？<br />\n",
    "(3). 会不会有一些交叉作用的因素与生还率相关性较强而没有分析到呢？<br />\n",
    "\n",
    "\n"
   ]
  },
  {
   "cell_type": "markdown",
   "metadata": {
    "collapsed": true
   },
   "source": [
    "<a href=\"#title\">**返回页首**</a>"
   ]
  },
  {
   "cell_type": "code",
   "execution_count": null,
   "metadata": {
    "collapsed": true
   },
   "outputs": [],
   "source": []
  }
 ],
 "metadata": {
  "kernelspec": {
   "display_name": "Python 3",
   "language": "python",
   "name": "python3"
  },
  "language_info": {
   "codemirror_mode": {
    "name": "ipython",
    "version": 3
   },
   "file_extension": ".py",
   "mimetype": "text/x-python",
   "name": "python",
   "nbconvert_exporter": "python",
   "pygments_lexer": "ipython3",
   "version": "3.6.1"
  }
 },
 "nbformat": 4,
 "nbformat_minor": 2
}
